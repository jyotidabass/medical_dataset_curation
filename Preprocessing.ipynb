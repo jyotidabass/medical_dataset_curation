{
 "cells": [
  {
   "cell_type": "code",
   "execution_count": 381,
   "metadata": {},
   "outputs": [],
   "source": [
    "import os\n",
    "\n",
    "import pandas as pd\n",
    "import numpy as np\n",
    "from tqdm.notebook import tqdm\n",
    "from sklearn.model_selection import train_test_split"
   ]
  },
  {
   "cell_type": "code",
   "execution_count": 245,
   "metadata": {},
   "outputs": [
    {
     "name": "stderr",
     "output_type": "stream",
     "text": [
      "/home/mcb/users/xlu41/.conda/envs/764/lib/python3.7/site-packages/tqdm/std.py:658: FutureWarning: The Panel class is removed from pandas. Accessing it from the top-level namespace will also be removed in the next version\n",
      "  from pandas import Panel\n"
     ]
    }
   ],
   "source": [
    "tqdm.pandas()"
   ]
  },
  {
   "cell_type": "markdown",
   "metadata": {},
   "source": [
    "## Load data"
   ]
  },
  {
   "cell_type": "code",
   "execution_count": 111,
   "metadata": {},
   "outputs": [],
   "source": [
    "raw_adm = pd.read_csv(\"/home/mcb/users/xlu41/data/MIMIC/ADMISSIONS.csv.gz\")\n",
    "raw_patients = pd.read_csv('/home/mcb/users/xlu41/data/MIMIC/PATIENTS.csv.gz')\n",
    "dicd = pd.read_csv('/home/mcb/users/xlu41/data/MIMIC/DIAGNOSES_ICD.csv.gz')\n",
    "picd = pd.read_csv('/home/mcb/users/xlu41/data/MIMIC/PROCEDURES_ICD.csv.gz')"
   ]
  },
  {
   "cell_type": "code",
   "execution_count": 2,
   "metadata": {},
   "outputs": [
    {
     "name": "stderr",
     "output_type": "stream",
     "text": [
      "/home/mcb/users/xlu41/.conda/envs/764/lib/python3.7/site-packages/IPython/core/interactiveshell.py:3063: DtypeWarning: Columns (4,5) have mixed types.Specify dtype option on import or set low_memory=False.\n",
      "  interactivity=interactivity, compiler=compiler, result=result)\n"
     ]
    }
   ],
   "source": [
    "raw_notes = pd.read_csv(\"/home/mcb/users/xlu41/data/MIMIC/NOTEEVENTS.csv\")"
   ]
  },
  {
   "cell_type": "markdown",
   "metadata": {},
   "source": [
    "## Clean Admission dataframe"
   ]
  },
  {
   "cell_type": "code",
   "execution_count": 112,
   "metadata": {},
   "outputs": [],
   "source": [
    "# First only keep the admission IDs that are in the notes as well\n",
    "adm = raw_adm.copy()\n",
    "adm_in_notes = notes.HADM_ID.unique()\n",
    "adm = adm[adm.HADM_ID.isin(adm_in_notes)]"
   ]
  },
  {
   "cell_type": "markdown",
   "metadata": {},
   "source": [
    "## Process notes dataframe"
   ]
  },
  {
   "cell_type": "code",
   "execution_count": 224,
   "metadata": {},
   "outputs": [],
   "source": [
    "notes = raw_notes.copy()\n",
    "categories_keep = ['Nursing', 'Physician ', 'Nursing/other']\n",
    "notes = notes[notes.CATEGORY.isin(categories_keep)]"
   ]
  },
  {
   "cell_type": "markdown",
   "metadata": {},
   "source": [
    "Add information about death and discharge time"
   ]
  },
  {
   "cell_type": "code",
   "execution_count": 225,
   "metadata": {},
   "outputs": [],
   "source": [
    "notes = notes.merge(\n",
    "    adm[['HADM_ID', 'DISCHTIME', 'HOSPITAL_EXPIRE_FLAG']],\n",
    "    on='HADM_ID', how='left'\n",
    ")"
   ]
  },
  {
   "cell_type": "markdown",
   "metadata": {},
   "source": [
    "Ensures to only keep notes that were written at least 24h before discharge"
   ]
  },
  {
   "cell_type": "code",
   "execution_count": 226,
   "metadata": {},
   "outputs": [],
   "source": [
    "# Time manipulation\n",
    "notes.DISCHTIME = pd.to_datetime(notes.DISCHTIME)\n",
    "notes.CHARTTIME = pd.to_datetime(notes.CHARTTIME)\n",
    "notes.CHARTDATE = pd.to_datetime(notes.CHARTDATE) + pd.DateOffset(hours=23)\n",
    "\n",
    "notes.CHARTTIME = notes.CHARTTIME.fillna(notes.CHARTDATE)\n",
    "\n",
    "notes = notes[notes.CHARTTIME < notes.DISCHTIME - pd.DateOffset(hours=24)]"
   ]
  },
  {
   "cell_type": "markdown",
   "metadata": {},
   "source": [
    "Sample negative notes by randomly selecting at most 4 notes per patient."
   ]
  },
  {
   "cell_type": "code",
   "execution_count": 270,
   "metadata": {},
   "outputs": [],
   "source": [
    "keep_cols = ['HADM_ID', 'SUBJECT_ID', 'TEXT', 'HOSPITAL_EXPIRE_FLAG']\n",
    "\n",
    "pos_notes = notes.loc[notes.HOSPITAL_EXPIRE_FLAG == 1, keep_cols]\n",
    "\n",
    "neg_notes = (\n",
    "    notes\n",
    "    .loc[:, keep_cols]\n",
    "    .query(\"HOSPITAL_EXPIRE_FLAG == 0\")\n",
    "    .groupby(\"HADM_ID\")\n",
    "    .progress_apply(lambda df: df.sample(n=4) if df.shape[0] >= 4 else df)\n",
    "    .reset_index(drop=True)\n",
    ")"
   ]
  },
  {
   "cell_type": "markdown",
   "metadata": {},
   "source": [
    "Recombine everything to get a balanced dataset"
   ]
  },
  {
   "cell_type": "code",
   "execution_count": 293,
   "metadata": {},
   "outputs": [
    {
     "data": {
      "text/plain": [
       "0.0    135476\n",
       "1.0    124702\n",
       "Name: HOSPITAL_EXPIRE_FLAG, dtype: int64"
      ]
     },
     "execution_count": 293,
     "metadata": {},
     "output_type": "execute_result"
    }
   ],
   "source": [
    "sampled_notes = pd.concat([pos_notes, neg_notes]).drop_duplicates()\n",
    "sampled_notes.HOSPITAL_EXPIRE_FLAG.value_counts()"
   ]
  },
  {
   "cell_type": "markdown",
   "metadata": {},
   "source": [
    "## Process text content"
   ]
  },
  {
   "cell_type": "code",
   "execution_count": 301,
   "metadata": {},
   "outputs": [],
   "source": [
    "def isolate(text, chars):\n",
    "    for c in chars:\n",
    "        text = text.replace(c, f\" {c} \")\n",
    "    return text"
   ]
  },
  {
   "cell_type": "code",
   "execution_count": 300,
   "metadata": {},
   "outputs": [],
   "source": [
    "def replace(text, chars, new=\"\"):\n",
    "    for c in chars:\n",
    "        text = text.replace(c, new)\n",
    "    return text"
   ]
  },
  {
   "cell_type": "code",
   "execution_count": 323,
   "metadata": {},
   "outputs": [],
   "source": [
    "def clean_text(text):\n",
    "    text = replace(text, \"[**\")\n",
    "    text = replace(text, \"**]\")\n",
    "    text = isolate(text, \"~!@#$%^&*()_+-={}:\\\";',./<>?\\\\|`'\")\n",
    "    text = text.lower()\n",
    "    \n",
    "    return text"
   ]
  },
  {
   "cell_type": "code",
   "execution_count": 325,
   "metadata": {},
   "outputs": [
    {
     "data": {
      "application/vnd.jupyter.widget-view+json": {
       "model_id": "64ba7ce8f2fe47e1aa20c14256a1b2b0",
       "version_major": 2,
       "version_minor": 0
      },
      "text/plain": [
       "HBox(children=(FloatProgress(value=0.0, max=260178.0), HTML(value='')))"
      ]
     },
     "metadata": {},
     "output_type": "display_data"
    },
    {
     "name": "stdout",
     "output_type": "stream",
     "text": [
      "\n"
     ]
    }
   ],
   "source": [
    "sampled_notes.TEXT = sampled_notes.TEXT.progress_apply(clean_text)"
   ]
  },
  {
   "cell_type": "markdown",
   "metadata": {},
   "source": [
    "## Train test split"
   ]
  },
  {
   "cell_type": "code",
   "execution_count": 359,
   "metadata": {},
   "outputs": [],
   "source": [
    "subjects = sampled_notes[['SUBJECT_ID', \"HOSPITAL_EXPIRE_FLAG\"]].drop_duplicates()\n",
    "\n",
    "train_subj, rest_subj = train_test_split(\n",
    "    subjects, \n",
    "    test_size=0.25, \n",
    "    random_state=0,\n",
    "    stratify=subjects.HOSPITAL_EXPIRE_FLAG\n",
    ")\n",
    "\n",
    "valid_subj, test_subj = train_test_split(\n",
    "    rest_subj.SUBJECT_ID.values,\n",
    "    test_size=0.6,\n",
    "    random_state=1,\n",
    "    stratify=rest_subj.HOSPITAL_EXPIRE_FLAG\n",
    ")\n",
    "\n",
    "train_subj = train_subj.SUBJECT_ID.values"
   ]
  },
  {
   "cell_type": "code",
   "execution_count": 372,
   "metadata": {},
   "outputs": [],
   "source": [
    "train_notes = sampled_notes[sampled_notes.SUBJECT_ID.isin(train_subj)].reset_index(drop=True)\n",
    "valid_notes = sampled_notes[sampled_notes.SUBJECT_ID.isin(valid_subj)].reset_index(drop=True)\n",
    "test_notes = sampled_notes[sampled_notes.SUBJECT_ID.isin(test_subj)].reset_index(drop=True)"
   ]
  },
  {
   "cell_type": "markdown",
   "metadata": {},
   "source": [
    "## Save"
   ]
  },
  {
   "cell_type": "code",
   "execution_count": 379,
   "metadata": {},
   "outputs": [],
   "source": [
    "def touch_dir(dirname):\n",
    "    if not os.path.exists(dirname):\n",
    "        os.makedirs(dirname)\n",
    "        print(f\"Created directory {dirname}.\")\n",
    "    else:\n",
    "        print(f\"Directory {dirname} already exists.\")"
   ]
  },
  {
   "cell_type": "code",
   "execution_count": 383,
   "metadata": {},
   "outputs": [
    {
     "name": "stdout",
     "output_type": "stream",
     "text": [
      "Directory data already exists.\n"
     ]
    }
   ],
   "source": [
    "touch_dir(\"data\")\n",
    "train_notes.to_csv(\"data/train.csv\", index=False)\n",
    "valid_notes.to_csv(\"data/valid.csv\", index=False)\n",
    "test_notes.to_csv(\"data/test.csv\", index=False)"
   ]
  }
 ],
 "metadata": {
  "kernelspec": {
   "display_name": "Python 3",
   "language": "python",
   "name": "python3"
  },
  "language_info": {
   "codemirror_mode": {
    "name": "ipython",
    "version": 3
   },
   "file_extension": ".py",
   "mimetype": "text/x-python",
   "name": "python",
   "nbconvert_exporter": "python",
   "pygments_lexer": "ipython3",
   "version": "3.6.9"
  }
 },
 "nbformat": 4,
 "nbformat_minor": 4
}
